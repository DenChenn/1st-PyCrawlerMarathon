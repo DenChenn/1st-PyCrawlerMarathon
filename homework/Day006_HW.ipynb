{
 "cells": [
  {
   "cell_type": "markdown",
   "metadata": {},
   "source": [
    "# API 資料串接 - 以 知乎 API 實作範例\n",
    "\n",
    "\n",
    "\n",
    "* 了解知乎 API 使用方式與回傳內容\n",
    "* 撰寫程式存取 API 且添加標頭\n",
    "\n",
    "\n"
   ]
  },
  {
   "cell_type": "markdown",
   "metadata": {},
   "source": [
    "## 作業目標\n",
    "\n",
    "* 根據範例提供的 API ，完成以下問題：\n",
    "\n",
    "    1. 取出知乎問題發問時間\n",
    "    2. 取出第一筆與最後一筆回答的時間\n"
   ]
  },
  {
   "cell_type": "markdown",
   "metadata": {},
   "source": [
    "### 1. 取出知乎問題發問時間"
   ]
  },
  {
   "cell_type": "code",
   "execution_count": 14,
   "metadata": {},
   "outputs": [
    {
     "name": "stdout",
     "output_type": "stream",
     "text": [
      "1543075931\n",
      "2018-11-25 00:12:11\n",
      "\n",
      "1543075931\n",
      "2018-11-25 00:12:11\n",
      "\n",
      "1543075931\n",
      "2018-11-25 00:12:11\n",
      "\n",
      "1543075931\n",
      "2018-11-25 00:12:11\n",
      "\n",
      "1543075931\n",
      "2018-11-25 00:12:11\n",
      "\n"
     ]
    }
   ],
   "source": [
    "# 1. 取出知乎問題發問時間\n",
    "import requests\n",
    "import json\n",
    "from datetime import datetime\n",
    "headersFind = {'user-agent': 'my-app/0.0.1'}\n",
    "response = requests.get('https://www.zhihu.com/api/v4/questions/55493026/answers',headers = headersFind)\n",
    "data = json.loads(response.text)\n",
    "\n",
    "\n",
    "for imf in data['data']:\n",
    "    print(imf['question']['updated_time'])\n",
    "    print(datetime.fromtimestamp(imf['question']['updated_time']))\n",
    "    print()"
   ]
  },
  {
   "cell_type": "markdown",
   "metadata": {},
   "source": [
    "### 2. 取出第一筆與最後一筆回答的時間"
   ]
  },
  {
   "cell_type": "code",
   "execution_count": 16,
   "metadata": {},
   "outputs": [
    {
     "name": "stdout",
     "output_type": "stream",
     "text": [
      "1557824412\n",
      "2019-05-14 17:00:12\n",
      "\n",
      "1493707703\n",
      "2017-05-02 14:48:23\n"
     ]
    }
   ],
   "source": [
    "# 2. 取出第一筆與最後一筆回答的時間\n",
    "print(data['data'][0]['created_time'])\n",
    "result1 = data['data'][0]['created_time']\n",
    "print(datetime.fromtimestamp(result1))\n",
    "\n",
    "print()\n",
    "\n",
    "print(data['data'][3]['created_time'])\n",
    "result2 = data['data'][3]['created_time']\n",
    "print(datetime.fromtimestamp(result2))"
   ]
  },
  {
   "cell_type": "code",
   "execution_count": null,
   "metadata": {},
   "outputs": [],
   "source": []
  },
  {
   "cell_type": "code",
   "execution_count": null,
   "metadata": {},
   "outputs": [],
   "source": []
  },
  {
   "cell_type": "code",
   "execution_count": null,
   "metadata": {},
   "outputs": [],
   "source": []
  }
 ],
 "metadata": {
  "kernelspec": {
   "display_name": "Python 3",
   "language": "python",
   "name": "python3"
  },
  "language_info": {
   "codemirror_mode": {
    "name": "ipython",
    "version": 3
   },
   "file_extension": ".py",
   "mimetype": "text/x-python",
   "name": "python",
   "nbconvert_exporter": "python",
   "pygments_lexer": "ipython3",
   "version": "3.7.4"
  }
 },
 "nbformat": 4,
 "nbformat_minor": 2
}
